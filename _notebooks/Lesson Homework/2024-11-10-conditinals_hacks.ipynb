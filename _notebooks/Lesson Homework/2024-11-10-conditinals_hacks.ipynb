{
 "cells": [
  {
   "cell_type": "raw",
   "metadata": {
    "vscode": {
     "languageId": "raw"
    }
   },
   "source": [
    "---\n",
    "comments: True\n",
    "layout: post\n",
    "title: conditionals lesson hacks\n",
    "description: conditionals hacks\n",
    "permalink: /csse/javascript/fundamentals/conditionals/hacks\n",
    "type: ccc\n",
    "---"
   ]
  },
  {
   "cell_type": "markdown",
   "metadata": {},
   "source": [
    "x`#### <span style=\"color: #ADD8E6; text-shadow: 3px 3px 8px #4682B4; font-weight: bold; font-size: 2em;\">Popcorn Hacks:</span>\n",
    "Develop a basic combat system that allows characters to engage in battles with enemies. This will help you practice using functions, conditionals, and basic game mechanics in JavaScript.\n",
    "\n",
    "---\n",
    "##### <span style=\"color: #FF6347; text-shadow: 2px 2px 6px #8B0000; font-weight: bold; font-size: 1.5em;\">Popcorn Hack Part 1 - 1: Using <code>initializeData</code> Function</span> \n",
    "\n",
    "1. Add `speed` to the <code>initializeData(data = null)</code> function and give it a default value.\n",
    "2. Add `seed` to the HTML output.\n",
    "3. Add `speed` to the JSON data.\n",
    "4. Test calling <code>initializeData</code> with no argument, and then using a `data` JSON object as an argument.\n",
    "\n",
    "##### <span style=\"color: #FF6347; text-shadow: 2px 2px 6px #8B0000; font-weight: bold; font-size: 1.5em;\">Popcorn Hack Part 1 - 2: Adding IJKL Key Conditions in <code>handleKeyDown</code></span> \n",
    "\n",
    "1. Add a `case` statement for each of the IJKL keys in the `handleKeyDown({ keyCode })` switch statement.\n",
    "2. Send the key code for each IJKL key to the <code>gameObject.handleKeyDown</code> method.\n",
    "3. Use <code>console.log()</code> to output `gameObject`.\n",
    "\n",
    "---\n",
    "\n",
    "##### <span style=\"color: #FF6347; text-shadow: 2px 2px 6px #8B0000; font-weight: bold; font-size: 1.5em;\">Popcorn Hack 2: Creating a Simple Attack System</span>\n",
    "1. Add a <code>boolean</code> variable named <code>canAttack</code>, and set it to <code>false</code>.\n",
    "2. Use an <code>if</code> statement to check if the player can attack.\n",
    "3. If <code>canAttack</code> is <code>false</code>, output \"Can't attack.\"\n",
    "4. Use <code>Math.random()</code> to determine if the player is allowed to attack. (Tip: Use ChatGPT for help with <code>Math.random()</code> if needed!)\n",
    "5. This will pick a random number to decide if the attack can happen.\n",
    "6. Use <code>console.log()</code> for all outputs.\n",
    "\n",
    "---\n",
    "\n",
    "##### <span style=\"color: #FF6347; text-shadow: 2px 2px 6px #8B0000; font-weight: bold; font-size: 1.5em;\">Popcorn Hack 3: Level Requirement Check</span>\n",
    "1. Use the <code>ternary operator</code> to create an output if the player meets the level requirements.\n",
    "2. If not, output a message telling the player they are under-leveled.\n",
    "3. Use <code>console.log()</code> to print your output."
   ]
  },
  {
   "cell_type": "markdown",
   "metadata": {},
   "source": [
    "### THIS VIDEO GIVES INSTRUCTIONS TO PLAY MY GAME. IF YOU DON'T WANT TO WATCH JUST OPEN THE CONSOLE TO PAST EVERYTHING IN MY CODE EXCEPT FOR THE %%JS"
   ]
  },
  {
   "cell_type": "code",
   "execution_count": null,
   "metadata": {
    "vscode": {
     "languageId": "html"
    }
   },
   "outputs": [],
   "source": [
    "%%HTML\n",
    "<video width=\"320\" height=\"240\" controls>\n",
    "  <source src=\"./video.mp4\" type=\"video/mp4\">\n",
    "</video>"
   ]
  },
  {
   "cell_type": "code",
   "execution_count": 2,
   "metadata": {
    "vscode": {
     "languageId": "javascript"
    }
   },
   "outputs": [
    {
     "data": {
      "application/javascript": "    const MAXLEVELDIF = 1.1;\n    class Character{\n        constructor(name, health, strength, speed, level){\n            this.name = name;\n            this.health = health;\n            this.strength = strength;\n            this.speed = speed;\n            this.level = level;\n        }\n        move(direction){\n            switch(direction){\n                case 'up': case 'i':\n                    console.log(`${this.name} moved up.`);\n                    break;\n                case 'left': case 'j':\n                    console.log(`${this.name} moved left.`);\n                    break;\n                case 'down': case 'k':\n                    console.log(`${this.name} moved down.`);\n                    break;\n                case 'right': case 'l':\n                    console.log(`${this.name} moved right.`);\n                    break;  \n                default:\n                    console.log(`Invalid direction.`);\n            }\n        }\n        attack(enemy){\n                const damage = Math.floor(Math.random() * this.strength);\n                enemy.health -= damage;\n                console.log(`${this.name} attacked ${enemy.name} and caused ${damage} damage.`);\n        }\n        isUnderLeveled(enemy){\n            if(this.level * MAXLEVELDIF < enemy.level){\n                return this.level < enemy.level ? true : false;\n            }\n        }\n        train(){\n            this.level++;\n            this.strength *= 1.1;\n            this.speed *= 1.1;\n            console.log(`${this.name} has trained and is now level ${this.level}. Strength increased to ${this.strength} and speed increased to ${this.speed}.`);\n        }\n        fight(enemy){\n            if(!this.isUnderLeveled(enemy)){\n                while(this.health > 0 && enemy.health > 0){\n                    if(Math.random() * enemy.speed > Math.random() * this.speed){\n                        console.log(`${enemy.name} attacks first this turn!`);\n                        enemy.attack(this); \n                        if(this.health <= 0){\n                            console.log(`${this.name} has been defeated!`);\n                            break;\n                        }\n                        this.attack(enemy);\n                        if(enemy.health <= 0){\n                            console.log(`${enemy.name} has been defeated!`);\n                            break;\n                        }\n                    }\n                    else{\n                        console.log(`${this.name} attacks first!`);\n                        this.attack(enemy);\n                        if(enemy.health <= 0){\n                            console.log(`${enemy.name} has been defeated!`);\n                            break;\n                        }\n                        enemy.attack(this);\n                        if(this.health <= 0){\n                            console.log(`${this.name} has been defeated!`);\n                            break;\n                        }\n                    }\n                }\n            }\n            else {\n                return 'You are under-leveled for this enemy.';\n            }\n        }\n    }\n    class Necromancer extends Character{\n        constructor(name, health, strength, speed, level, mana){\n            super(name, health, strength, speed, level);\n            this.mana = mana;\n        }\n        attack(enemy){\n            if(this.health > 0){\n                if(this.mana >= 10){\n                    const damage = Math.floor(Math.random() * this.strength * 2);\n                    enemy.health -= damage;\n                    this.mana -= 10;\n                    console.log(`${this.name} casts a spell on ${enemy.name} and causes ${damage} damage. Mana remaining: ${this.mana}`);\n                }\n                else{pro\n                    super.attack(enemy);\n                    this.mana +=5;\n                }\n            }\n            else{\n                console.log('Why are you attacking me? I AM DEADDD')\n                return;\n            }\n        }\n        \n    }\n    class Warrior extends Character{\n        constructor(name, health, strength, speed, level, endurance){\n            super(name, health, strength, speed, level);\n            this.endurance = endurance;\n        }\n        attack(enemy){\n            if(this.health > 0){\n                if(this.endurance >= 10){\n                    const damage = Math.floor(Math.random() * this.strength * 1.5);\n                    enemy.health -= damage;\n                    this.endurance -= 5;\n                    console.log(`${this.name} charges at ${enemy.name} and causes ${damage} damage. Endurance remaining: ${this.endurance}`);\n                }\n                else{\n                    super.attack(enemy);\n                    this.endurance += 7;\n                }\n            }\n            else{\n                console.log('Why are you attacking me? I AM DEADDD')\n                return;\n            }\n        }\n    }\n    let protagonist;\n    let enemy = new Necromancer('Lucius', 250, 15, 30, 5, 100);\n    function startGame(){\n        let className = prompt('Choose your class: Warrior, Tank, or Mage');\n        switch(className){\n            case 'Warrior':\n                protagonist = new Warrior('Player', 300, 20, 25, 1, 100);\n                break;\n            case 'Tank':\n                protagonist = new Tank('Player', 400, 15, 20, 1, 100);\n                break;\n            case 'Mage':\n                protagonist = new Mage('Player', 200, 30, 35, 1, 100);\n                break;\n            default:\n                console.log('Invalid class. Please choose Warrior, Tank, or Mage.');\n                return;\n        }\n    }\n    function startGame(){\n        let className = document.getElementByID('Choose your class: Warrior, Tank, or Mage');\n        switch(className){\n            case 'Warrior':\n                protagonist = new Warrior('Player', 300, 20, 25, 1, 100);\n                break;\n            case 'Tank':\n                protagonist = new Tank('Player', 400, 15, 20, 1, 100);\n                break;\n            case 'Mage':\n                protagonist = new Mage('Player', 200, 30, 35, 1, 100);\n                break;\n            default:\n                console.log('Invalid class. Please choose Warrior, Tank, or Mage.');\n                return;\n        }\n    }\n        console.log(`You have chosen the ${className} class.`);\n        console.log('You are now in a battle with Lucius the Necromancer!');\n        console.log('You can use the following commands:');\n        console.log('- attack(enemy) to attack the enemy');\n        console.log('- move(direction) to move in a direction (up, down, left, right)');\n        console.log('- train() to train and increase your level, strength, and speed');\n        console.log('- fight(enemy) to fight the enemy');\n        console.log('- resetGame() to reset the game');\n",
      "text/plain": [
       "<IPython.core.display.Javascript object>"
      ]
     },
     "metadata": {},
     "output_type": "display_data"
    }
   ],
   "source": [
    "%%js\n",
    "    "
   ]
  },
  {
   "cell_type": "code",
   "execution_count": 3,
   "metadata": {
    "vscode": {
     "languageId": "html"
    }
   },
   "outputs": [
    {
     "data": {
      "text/html": [
       "<button id = 'startGame' onclick=\"startGame()\">Start Game</button>\n",
       "<p id = \"output\"></p>\n",
       "<input id = 'input'></input>\n"
      ],
      "text/plain": [
       "<IPython.core.display.HTML object>"
      ]
     },
     "metadata": {},
     "output_type": "display_data"
    }
   ],
   "source": [
    "%%HTML\n",
    "<button id = 'startGame' onclick=\"startGame()\">Start Game</button>\n",
    "<p id = \"output\"></p>\n",
    "<input id = 'input'></input>\n",
    "<script>\n",
    "    const MAXLEVELDIF = 1.1;\n",
    "    class Character{\n",
    "        constructor(name, health, strength, speed, level){\n",
    "            this.name = name;\n",
    "            this.health = health;\n",
    "            this.strength = strength;\n",
    "            this.speed = speed;\n",
    "            this.level = level;\n",
    "        }\n",
    "        move(direction){\n",
    "            switch(direction){\n",
    "                case 'up': case 'i':\n",
    "                    console.log(`${this.name} moved up.`);\n",
    "                    break;\n",
    "                case 'left': case 'j':\n",
    "                    console.log(`${this.name} moved left.`);\n",
    "                    break;\n",
    "                case 'down': case 'k':\n",
    "                    console.log(`${this.name} moved down.`);\n",
    "                    break;\n",
    "                case 'right': case 'l':\n",
    "                    console.log(`${this.name} moved right.`);\n",
    "                    break;  \n",
    "                default:\n",
    "                    console.log(`Invalid direction.`);\n",
    "            }\n",
    "        }\n",
    "        attack(enemy){\n",
    "                const damage = Math.floor(Math.random() * this.strength);\n",
    "                enemy.health -= damage;\n",
    "                console.log(`${this.name} attacked ${enemy.name} and caused ${damage} damage.`);\n",
    "        }\n",
    "        isUnderLeveled(enemy){\n",
    "            if(this.level * MAXLEVELDIF < enemy.level){\n",
    "                return this.level < enemy.level ? true : false;\n",
    "            }\n",
    "        }\n",
    "        train(){\n",
    "            this.level++;\n",
    "            this.strength *= 1.1;\n",
    "            this.speed *= 1.1;\n",
    "            console.log(`${this.name} has trained and is now level ${this.level}. Strength increased to ${this.strength} and speed increased to ${this.speed}.`);\n",
    "        }\n",
    "        fight(enemy){\n",
    "            if(!this.isUnderLeveled(enemy)){\n",
    "                while(this.health > 0 && enemy.health > 0){\n",
    "                    if(Math.random() * enemy.speed > Math.random() * this.speed){\n",
    "                        console.log(`${enemy.name} attacks first this turn!`);\n",
    "                        enemy.attack(this); \n",
    "                        if(this.health <= 0){\n",
    "                            console.log(`${this.name} has been defeated!`);\n",
    "                            break;\n",
    "                        }\n",
    "                        this.attack(enemy);\n",
    "                        if(enemy.health <= 0){\n",
    "                            console.log(`${enemy.name} has been defeated!`);\n",
    "                            break;\n",
    "                        }\n",
    "                    }\n",
    "                    else{\n",
    "                        console.log(`${this.name} attacks first!`);\n",
    "                        this.attack(enemy);\n",
    "                        if(enemy.health <= 0){\n",
    "                            console.log(`${enemy.name} has been defeated!`);\n",
    "                            break;\n",
    "                        }\n",
    "                        enemy.attack(this);\n",
    "                        if(this.health <= 0){\n",
    "                            console.log(`${this.name} has been defeated!`);\n",
    "                            break;\n",
    "                        }\n",
    "                    }\n",
    "                }\n",
    "            }\n",
    "            else {\n",
    "                return 'You are under-leveled for this enemy.';\n",
    "            }\n",
    "        }\n",
    "    }\n",
    "    class Necromancer extends Character{\n",
    "        constructor(name, health, strength, speed, level, mana){\n",
    "            super(name, health, strength, speed, level);\n",
    "            this.mana = mana;\n",
    "        }\n",
    "        attack(enemy){\n",
    "            if(this.health > 0){\n",
    "                if(this.mana >= 10){\n",
    "                    const damage = Math.floor(Math.random() * this.strength * 2);\n",
    "                    enemy.health -= damage;\n",
    "                    this.mana -= 10;\n",
    "                    console.log(`${this.name} casts a spell on ${enemy.name} and causes ${damage} damage. Mana remaining: ${this.mana}`);\n",
    "                }\n",
    "                else{pro\n",
    "                    super.attack(enemy);\n",
    "                    this.mana +=5;\n",
    "                }\n",
    "            }\n",
    "            else{\n",
    "                console.log('Why are you attacking me? I AM DEADDD')\n",
    "                return;\n",
    "            }\n",
    "        }\n",
    "        \n",
    "    }\n",
    "    class Warrior extends Character{\n",
    "        constructor(name, health, strength, speed, level, endurance){\n",
    "            super(name, health, strength, speed, level);\n",
    "            this.endurance = endurance;\n",
    "        }\n",
    "        attack(enemy){\n",
    "            if(this.health > 0){\n",
    "                if(this.endurance >= 10){\n",
    "                    const damage = Math.floor(Math.random() * this.strength * 1.5);\n",
    "                    enemy.health -= damage;\n",
    "                    this.endurance -= 5;\n",
    "                    console.log(`${this.name} charges at ${enemy.name} and causes ${damage} damage. Endurance remaining: ${this.endurance}`);\n",
    "                }\n",
    "                else{\n",
    "                    super.attack(enemy);\n",
    "                    this.endurance += 7;\n",
    "                }\n",
    "            }\n",
    "            else{\n",
    "                console.log('Why are you attacking me? I AM DEADDD')\n",
    "                return;\n",
    "            }\n",
    "        }\n",
    "    }\n",
    "    let protagonist;\n",
    "    let enemy = new Necromancer('Lucius', 250, 15, 30, 5, 100);\n",
    "    function startGame(){\n",
    "        let className = prompt('Choose your class: Warrior, Tank, or Mage');\n",
    "        switch(className){\n",
    "            case 'Warrior':\n",
    "                protagonist = new Warrior('Player', 300, 20, 25, 1, 100);\n",
    "                break;\n",
    "            case 'Tank':\n",
    "                protagonist = new Tank('Player', 400, 15, 20, 1, 100);\n",
    "                break;\n",
    "            case 'Mage':\n",
    "                protagonist = new Mage('Player', 200, 30, 35, 1, 100);\n",
    "                break;\n",
    "            default:\n",
    "                console.log('Invalid class. Please choose Warrior, Tank, or Mage.');\n",
    "                return;\n",
    "        }\n",
    "    }\n",
    "    function startGame(){\n",
    "        let className = document.getElementByID('Choose your class: Warrior, Tank, or Mage');\n",
    "        switch(className){\n",
    "            case 'Warrior':\n",
    "                protagonist = new Warrior('Player', 300, 20, 25, 1, 100);\n",
    "                break;\n",
    "            case 'Tank':\n",
    "                protagonist = new Tank('Player', 400, 15, 20, 1, 100);\n",
    "                break;\n",
    "            case 'Mage':\n",
    "                protagonist = new Mage('Player', 200, 30, 35, 1, 100);\n",
    "                break;\n",
    "            default:\n",
    "                console.log('Invalid class. Please choose Warrior, Tank, or Mage.');\n",
    "                return;\n",
    "        }\n",
    "    }\n",
    "        console.log(`You have chosen the ${className} class.`);\n",
    "        console.log('You are now in a battle with Lucius the Necromancer!');\n",
    "        console.log('You can use the following commands:');\n",
    "        console.log('- attack(enemy) to attack the enemy');\n",
    "        console.log('- move(direction) to move in a direction (up, down, left, right)');\n",
    "        console.log('- train() to train and increase your level, strength, and speed');\n",
    "        console.log('- fight(enemy) to fight the enemy');\n",
    "        console.log('- resetGame() to reset the game');\n",
    "</script>"
   ]
  },
  {
   "cell_type": "markdown",
   "metadata": {},
   "source": [
    "<!-- Homework Section with Enhanced Glowing Title -->\n",
    "\n",
    "### <span style=\"color: #78C0E0; text-shadow: 0 0 10px #1E3D59, 0 0 20px #1E3D59; font-weight: bold; font-size: 2em;\">Homework:</span>\n",
    "\n",
    "#### <span style=\"color: #FFA07A; text-shadow: 0 0 8px #3C3C3C, 0 0 15px #3C3C3C; font-weight: bold; font-size: 1.5em;\">Objectives</span>\n",
    "\n",
    "<span style=\"font-size: 1.2em; color: #E5E5E5; line-height: 1.8;\">\n",
    "  <br><strong style=\"color: #FFD700;\">Option 1:</strong> <span style=\"color: #C0C0C0;\">Create a simple combat system.</span>\n",
    "  <ul style=\"color: #D3D3D3; margin-left: 20px; list-style-type: circle;\">\n",
    "    <li>Allow characters to fight enemies.</li>\n",
    "    <li>Use basic functions and conditionals in JavaScript.</li>\n",
    "    <li>Focus on making it easy to understand how battles work.</li>\n",
    "  </ul>\n",
    "\n",
    "  <br>\n",
    "  <strong style=\"color: #FFD700;\">Option 2:</strong> <span style=\"color: #C0C0C0;\">Make a dialogue system for your NPC (Non-Player Character).</span>\n",
    "  <ul style=\"color: #D3D3D3; margin-left: 20px; list-style-type: circle;\">\n",
    "    <li>Use the <code style=\"color: #7FFFD4;\">prompt()</code> function to ask the player for a response (choose a number from 1 to 4).</li>\n",
    "    <li>This dialogue should appear when the player gets close to the NPC and presses a button.</li>\n",
    "  </ul>\n",
    "</span>\n",
    "\n",
    "### <span style=\"color: #FFA07A; text-shadow: 1px 1px 6px #3C3C3C; font-weight: bold;\">Additional Tips:</span>\n",
    "- <span style=\"color: #FFD700;\">**For Option 1:**</span>\n",
    "  <ul style=\"color: #D3D3D3; margin-left: 20px; list-style-type: square;\">\n",
    "    <li>Start by writing down what the characters and enemies will be. Create simple names and attributes (like health).</li>\n",
    "    <li>Use <code style=\"color: #7FFFD4;\">console.log()</code> to print out what's happening at each step. This will help you understand the flow of your code.</li>\n",
    "    <li>Look for example code online to see how others have created combat systems. Don't be afraid to borrow ideas!</li>\n",
    "  </ul>\n",
    "\n",
    "- <span style=\"color: #FFD700;\">**For Option 2:**</span>\n",
    "  <ul style=\"color: #D3D3D3; margin-left: 20px; list-style-type: square;\">\n",
    "    <li>Plan out the dialogue options before you start coding. Write them down in a list.</li>\n",
    "    <li>Use comments in your code to remind yourself what each part does. For example, <code style=\"color: #7FFFD4;\">// Ask the player for a response</code>.</li>\n",
    "    <li>Test your code frequently. After writing a few lines, run it to see if it works before adding more.</li>\n",
    "  </ul>"
   ]
  }
 ],
 "metadata": {
  "kernelspec": {
   "display_name": "venv",
   "language": "python",
   "name": "python3"
  },
  "language_info": {
   "codemirror_mode": {
    "name": "ipython",
    "version": 3
   },
   "file_extension": ".py",
   "mimetype": "text/x-python",
   "name": "python",
   "nbconvert_exporter": "python",
   "pygments_lexer": "ipython3",
   "version": "3.12.6"
  }
 },
 "nbformat": 4,
 "nbformat_minor": 2
}
